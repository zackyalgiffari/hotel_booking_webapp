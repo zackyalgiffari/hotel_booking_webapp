{
 "cells": [
  {
   "cell_type": "code",
   "execution_count": 10,
   "metadata": {},
   "outputs": [],
   "source": [
    "import pandas as pd"
   ]
  },
  {
   "cell_type": "code",
   "execution_count": 21,
   "metadata": {},
   "outputs": [
    {
     "name": "stdout",
     "output_type": "stream",
     "text": [
      "          hotel  is_canceled  lead_time  arrival_date_year arrival_date_month  \\\n",
      "0  Resort Hotel            0        342               2015               July   \n",
      "\n",
      "   arrival_date_week_number  arrival_date_day_of_month  \\\n",
      "0                        27                          1   \n",
      "\n",
      "   stays_in_weekend_nights  stays_in_week_nights  adults  ...  deposit_type  \\\n",
      "0                        0                     0       2  ...    No Deposit   \n",
      "\n",
      "   agent company days_in_waiting_list customer_type  adr  \\\n",
      "0    NaN     NaN                    0     Transient  0.0   \n",
      "\n",
      "   required_car_parking_spaces  total_of_special_requests  reservation_status  \\\n",
      "0                            0                          0           Check-Out   \n",
      "\n",
      "  reservation_status_date  \n",
      "0              2015-07-01  \n",
      "\n",
      "[1 rows x 32 columns]\n"
     ]
    }
   ],
   "source": [
    "df = pd.read_csv(\"hotel_bookings.csv\")\n",
    "print(df.head(1))"
   ]
  },
  {
   "cell_type": "code",
   "execution_count": 12,
   "metadata": {},
   "outputs": [],
   "source": [
    "df = df.drop(['company'], axis = 1)\n",
    "df = df.dropna(axis = 0)"
   ]
  },
  {
   "cell_type": "code",
   "execution_count": 13,
   "metadata": {},
   "outputs": [],
   "source": [
    "df1 = df.copy()"
   ]
  },
  {
   "cell_type": "code",
   "execution_count": 14,
   "metadata": {},
   "outputs": [
    {
     "name": "stdout",
     "output_type": "stream",
     "text": [
      "<class 'pandas.core.frame.DataFrame'>\n",
      "Int64Index: 102894 entries, 3 to 119389\n",
      "Data columns (total 31 columns):\n",
      " #   Column                          Non-Null Count   Dtype  \n",
      "---  ------                          --------------   -----  \n",
      " 0   hotel                           102894 non-null  object \n",
      " 1   is_canceled                     102894 non-null  int64  \n",
      " 2   lead_time                       102894 non-null  int64  \n",
      " 3   arrival_date_year               102894 non-null  int64  \n",
      " 4   arrival_date_month              102894 non-null  object \n",
      " 5   arrival_date_week_number        102894 non-null  int64  \n",
      " 6   arrival_date_day_of_month       102894 non-null  int64  \n",
      " 7   stays_in_weekend_nights         102894 non-null  int64  \n",
      " 8   stays_in_week_nights            102894 non-null  int64  \n",
      " 9   adults                          102894 non-null  int64  \n",
      " 10  children                        102894 non-null  float64\n",
      " 11  babies                          102894 non-null  int64  \n",
      " 12  meal                            102894 non-null  object \n",
      " 13  country                         102894 non-null  object \n",
      " 14  market_segment                  102894 non-null  object \n",
      " 15  distribution_channel            102894 non-null  object \n",
      " 16  is_repeated_guest               102894 non-null  int64  \n",
      " 17  previous_cancellations          102894 non-null  int64  \n",
      " 18  previous_bookings_not_canceled  102894 non-null  int64  \n",
      " 19  reserved_room_type              102894 non-null  object \n",
      " 20  assigned_room_type              102894 non-null  object \n",
      " 21  booking_changes                 102894 non-null  int64  \n",
      " 22  deposit_type                    102894 non-null  object \n",
      " 23  agent                           102894 non-null  float64\n",
      " 24  days_in_waiting_list            102894 non-null  int64  \n",
      " 25  customer_type                   102894 non-null  object \n",
      " 26  adr                             102894 non-null  float64\n",
      " 27  required_car_parking_spaces     102894 non-null  int64  \n",
      " 28  total_of_special_requests       102894 non-null  int64  \n",
      " 29  reservation_status              102894 non-null  object \n",
      " 30  reservation_status_date         102894 non-null  object \n",
      "dtypes: float64(3), int64(16), object(12)\n",
      "memory usage: 25.1+ MB\n"
     ]
    }
   ],
   "source": [
    "df.info()"
   ]
  },
  {
   "cell_type": "code",
   "execution_count": 15,
   "metadata": {},
   "outputs": [
    {
     "data": {
      "text/plain": [
       "array([0, 1], dtype=int64)"
      ]
     },
     "execution_count": 15,
     "metadata": {},
     "output_type": "execute_result"
    }
   ],
   "source": [
    "df['hotel'] = df['hotel'].map({'Resort Hotel':0, 'City Hotel':1})\n",
    "df['hotel'].unique()"
   ]
  },
  {
   "cell_type": "code",
   "execution_count": 16,
   "metadata": {},
   "outputs": [
    {
     "data": {
      "text/plain": [
       "array(['July', 'August', 'September', 'October', 'November', 'December',\n",
       "       'January', 'February', 'March', 'April', 'May', 'June'],\n",
       "      dtype=object)"
      ]
     },
     "execution_count": 16,
     "metadata": {},
     "output_type": "execute_result"
    }
   ],
   "source": [
    "df['arrival_date_month'].unique()"
   ]
  },
  {
   "cell_type": "code",
   "execution_count": 17,
   "metadata": {},
   "outputs": [
    {
     "data": {
      "text/plain": [
       "array([ 7,  8,  9, 10, 11, 12,  1,  2,  3,  4,  5,  6], dtype=int64)"
      ]
     },
     "execution_count": 17,
     "metadata": {},
     "output_type": "execute_result"
    }
   ],
   "source": [
    "df['arrival_date_month'] = df['arrival_date_month'].map({'January':1, 'February': 2, 'March':3, 'April':4, 'May':5, 'June':6, 'July':7,\n",
    "                                                            'August':8, 'September':9, 'October':10, 'November':11, 'December':12})\n",
    "df['arrival_date_month'].unique()"
   ]
  },
  {
   "cell_type": "code",
   "execution_count": 18,
   "metadata": {},
   "outputs": [],
   "source": [
    "#https://www.kaggle.com/code/amarloni/eda-best-regression-data-visualization/notebook"
   ]
  }
 ],
 "metadata": {
  "kernelspec": {
   "display_name": "base",
   "language": "python",
   "name": "python3"
  },
  "language_info": {
   "codemirror_mode": {
    "name": "ipython",
    "version": 3
   },
   "file_extension": ".py",
   "mimetype": "text/x-python",
   "name": "python",
   "nbconvert_exporter": "python",
   "pygments_lexer": "ipython3",
   "version": "3.10.9"
  },
  "orig_nbformat": 4,
  "vscode": {
   "interpreter": {
    "hash": "a90aeebcf29d64a654773811cc170cb25061cb2498f10ac689db374c7bf325de"
   }
  }
 },
 "nbformat": 4,
 "nbformat_minor": 2
}
